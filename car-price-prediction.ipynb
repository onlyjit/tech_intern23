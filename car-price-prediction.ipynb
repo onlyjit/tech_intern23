{
 "cells": [
  {
   "cell_type": "code",
   "execution_count": 12,
   "id": "ce841d80",
   "metadata": {},
   "outputs": [
    {
     "name": "stderr",
     "output_type": "stream",
     "text": [
      "/var/folders/c4/9rnhzq0124b6m1b7t9fwhvz40000gn/T/ipykernel_53514/3446776225.py:12: SettingWithCopyWarning: \n",
      "A value is trying to be set on a copy of a slice from a DataFrame.\n",
      "Try using .loc[row_indexer,col_indexer] = value instead\n",
      "\n",
      "See the caveats in the documentation: https://pandas.pydata.org/pandas-docs/stable/user_guide/indexing.html#returning-a-view-versus-a-copy\n",
      "  df['Price (in USD)']=t['Price (in USD)'].str.replace(',','').astype(int)\n",
      "/var/folders/c4/9rnhzq0124b6m1b7t9fwhvz40000gn/T/ipykernel_53514/3446776225.py:13: SettingWithCopyWarning: \n",
      "A value is trying to be set on a copy of a slice from a DataFrame.\n",
      "Try using .loc[row_indexer,col_indexer] = value instead\n",
      "\n",
      "See the caveats in the documentation: https://pandas.pydata.org/pandas-docs/stable/user_guide/indexing.html#returning-a-view-versus-a-copy\n",
      "  df['0-60 MPH Time (seconds)']=t['0-60 MPH Time (seconds)'].str.replace('< ','').astype(float)\n"
     ]
    }
   ],
   "source": [
    "import pandas as pd\n",
    "import numpy as np\n",
    "from sklearn.model_selection import train_test_split\n",
    "from sklearn.linear_model import LinearRegression\n",
    "from sklearn.metrics import r2_score\n",
    "from sklearn.preprocessing import OneHotEncoder\n",
    "\n",
    "\n",
    "t=pd.read_csv('Sport car price.csv')\n",
    "dfcopy=t.copy()\n",
    "df=t[['Car Make','Car Model','Year','0-60 MPH Time (seconds)','Price (in USD)']]\n",
    "df['Price (in USD)']=t['Price (in USD)'].str.replace(',','').astype(int)\n",
    "df['0-60 MPH Time (seconds)']=t['0-60 MPH Time (seconds)'].str.replace('< ','').astype(float)\n",
    "\n"
   ]
  },
  {
   "cell_type": "code",
   "execution_count": 11,
   "id": "d7594ec7",
   "metadata": {},
   "outputs": [
    {
     "name": "stdout",
     "output_type": "stream",
     "text": [
      "<class 'pandas.core.frame.DataFrame'>\n",
      "RangeIndex: 1007 entries, 0 to 1006\n",
      "Data columns (total 5 columns):\n",
      " #   Column                   Non-Null Count  Dtype  \n",
      "---  ------                   --------------  -----  \n",
      " 0   Car Make                 1007 non-null   object \n",
      " 1   Car Model                1007 non-null   object \n",
      " 2   Year                     1007 non-null   int64  \n",
      " 3   0-60 MPH Time (seconds)  1007 non-null   float64\n",
      " 4   Price (in USD)           1007 non-null   int64  \n",
      "dtypes: float64(1), int64(2), object(2)\n",
      "memory usage: 39.5+ KB\n"
     ]
    }
   ],
   "source": [
    "df.info()"
   ]
  },
  {
   "cell_type": "code",
   "execution_count": 18,
   "id": "4eaa39d1",
   "metadata": {},
   "outputs": [],
   "source": [
    "X=df.drop('Price (in USD)',axis=2)\n",
    "y=df['Price (in USD)']\n"
   ]
  },
  {
   "cell_type": "code",
   "execution_count": 19,
   "id": "6e3cdb23",
   "metadata": {},
   "outputs": [],
   "source": [
    "X_train, X_test, y_train, y_test=train_test_split(X, y, test_size=0.2, random_state=50)"
   ]
  },
  {
   "cell_type": "code",
   "execution_count": 20,
   "id": "fb1364b6",
   "metadata": {},
   "outputs": [
    {
     "data": {
      "text/plain": [
       "OneHotEncoder()"
      ]
     },
     "execution_count": 20,
     "metadata": {},
     "output_type": "execute_result"
    }
   ],
   "source": [
    "ohe=OneHotEncoder()\n",
    "ohe.fit(X[['Car Make','Car Model']])"
   ]
  },
  {
   "cell_type": "code",
   "execution_count": 24,
   "id": "a0230a2b",
   "metadata": {},
   "outputs": [],
   "source": [
    "from sklearn.compose import make_column_transformer\n",
    "from sklearn.pipeline import make_pipeline"
   ]
  },
  {
   "cell_type": "code",
   "execution_count": 32,
   "id": "69143bd8",
   "metadata": {},
   "outputs": [],
   "source": [
    "col_trans=make_column_transformer((OneHotEncoder(categories=ohe.categories_),['Car Make','Car Model']),remainder='passthrough')"
   ]
  },
  {
   "cell_type": "code",
   "execution_count": 33,
   "id": "4fc6dbed",
   "metadata": {},
   "outputs": [],
   "source": [
    "lr=LinearRegression()"
   ]
  },
  {
   "cell_type": "code",
   "execution_count": 34,
   "id": "9fb4caf4",
   "metadata": {},
   "outputs": [],
   "source": [
    "pipe=make_pipeline(col_trans,lr)"
   ]
  },
  {
   "cell_type": "code",
   "execution_count": 35,
   "id": "3040acd1",
   "metadata": {},
   "outputs": [
    {
     "data": {
      "text/plain": [
       "Pipeline(steps=[('columntransformer',\n",
       "                 ColumnTransformer(remainder='passthrough',\n",
       "                                   transformers=[('onehotencoder',\n",
       "                                                  OneHotEncoder(categories=[array(['Acura', 'Alfa Romeo', 'Alpine', 'Ariel', 'Aston Martin', 'Audi',\n",
       "       'BMW', 'Bentley', 'Bugatti', 'Chevrolet', 'Dodge', 'Ferrari',\n",
       "       'Ford', 'Jaguar', 'Kia', 'Koenigsegg', 'Lamborghini', 'Lexus',\n",
       "       'Lotus', 'Maserati', 'Mazda', 'McLaren'...\n",
       "       'RS6', 'RS6 Avant', 'RS7', 'RS7 Sportback', 'Roadster', 'Roma',\n",
       "       'S5', 'S63 AMG', 'SF90 Stradale', 'SL', 'SL 63 AMG', 'SLC 43',\n",
       "       'SLS AMG', 'SLS AMG Black Series', 'Senna', 'Sián', 'Speedtail',\n",
       "       'Stinger', 'Supra', 'TT RS', 'TT RS Coupe', 'Taycan', 'Taycan 4S',\n",
       "       'Taycan Turbo S', 'Urus', 'Vantage', 'Viper', 'Viper ACR',\n",
       "       'WRX STI', 'Wraith', 'Z4 M40i', 'Z4 Roadster', 'i8'], dtype=object)]),\n",
       "                                                  ['Car Make', 'Car Model'])])),\n",
       "                ('linearregression', LinearRegression())])"
      ]
     },
     "execution_count": 35,
     "metadata": {},
     "output_type": "execute_result"
    }
   ],
   "source": [
    "pipe.fit(X_train,y_train)"
   ]
  },
  {
   "cell_type": "code",
   "execution_count": 36,
   "id": "7e3913e0",
   "metadata": {},
   "outputs": [],
   "source": [
    "y_pred=pipe.predict(X_test)"
   ]
  },
  {
   "cell_type": "code",
   "execution_count": 37,
   "id": "9b9c7dfc",
   "metadata": {},
   "outputs": [
    {
     "data": {
      "text/plain": [
       "0.9553636719878429"
      ]
     },
     "execution_count": 37,
     "metadata": {},
     "output_type": "execute_result"
    }
   ],
   "source": [
    "r2_score(y_test,y_pred)\n"
   ]
  },
  {
   "cell_type": "code",
   "execution_count": 38,
   "id": "76ba647e",
   "metadata": {},
   "outputs": [
    {
     "data": {
      "text/html": [
       "<div>\n",
       "<style scoped>\n",
       "    .dataframe tbody tr th:only-of-type {\n",
       "        vertical-align: middle;\n",
       "    }\n",
       "\n",
       "    .dataframe tbody tr th {\n",
       "        vertical-align: top;\n",
       "    }\n",
       "\n",
       "    .dataframe thead th {\n",
       "        text-align: right;\n",
       "    }\n",
       "</style>\n",
       "<table border=\"1\" class=\"dataframe\">\n",
       "  <thead>\n",
       "    <tr style=\"text-align: right;\">\n",
       "      <th></th>\n",
       "      <th>Car Make</th>\n",
       "      <th>Car Model</th>\n",
       "      <th>Year</th>\n",
       "      <th>0-60 MPH Time (seconds)</th>\n",
       "      <th>Price (in USD)</th>\n",
       "    </tr>\n",
       "  </thead>\n",
       "  <tbody>\n",
       "    <tr>\n",
       "      <th>0</th>\n",
       "      <td>Porsche</td>\n",
       "      <td>911</td>\n",
       "      <td>2022</td>\n",
       "      <td>4.0</td>\n",
       "      <td>101200</td>\n",
       "    </tr>\n",
       "    <tr>\n",
       "      <th>1</th>\n",
       "      <td>Lamborghini</td>\n",
       "      <td>Huracan</td>\n",
       "      <td>2021</td>\n",
       "      <td>2.8</td>\n",
       "      <td>274390</td>\n",
       "    </tr>\n",
       "    <tr>\n",
       "      <th>2</th>\n",
       "      <td>Ferrari</td>\n",
       "      <td>488 GTB</td>\n",
       "      <td>2022</td>\n",
       "      <td>3.0</td>\n",
       "      <td>333750</td>\n",
       "    </tr>\n",
       "    <tr>\n",
       "      <th>3</th>\n",
       "      <td>Audi</td>\n",
       "      <td>R8</td>\n",
       "      <td>2022</td>\n",
       "      <td>3.2</td>\n",
       "      <td>142700</td>\n",
       "    </tr>\n",
       "    <tr>\n",
       "      <th>4</th>\n",
       "      <td>McLaren</td>\n",
       "      <td>720S</td>\n",
       "      <td>2021</td>\n",
       "      <td>2.7</td>\n",
       "      <td>298000</td>\n",
       "    </tr>\n",
       "  </tbody>\n",
       "</table>\n",
       "</div>"
      ],
      "text/plain": [
       "      Car Make Car Model  Year  0-60 MPH Time (seconds)  Price (in USD)\n",
       "0      Porsche       911  2022                      4.0          101200\n",
       "1  Lamborghini   Huracan  2021                      2.8          274390\n",
       "2      Ferrari   488 GTB  2022                      3.0          333750\n",
       "3         Audi        R8  2022                      3.2          142700\n",
       "4      McLaren      720S  2021                      2.7          298000"
      ]
     },
     "execution_count": 38,
     "metadata": {},
     "output_type": "execute_result"
    }
   ],
   "source": [
    "df.head()"
   ]
  },
  {
   "cell_type": "code",
   "execution_count": 39,
   "id": "9c784bff",
   "metadata": {},
   "outputs": [
    {
     "data": {
      "text/plain": [
       "array([101200.07638533])"
      ]
     },
     "execution_count": 39,
     "metadata": {},
     "output_type": "execute_result"
    }
   ],
   "source": [
    "pipe.predict(pd.DataFrame([['Porsche','911',2022,4.0]],columns=['Car Make','Car Model','Year','0-60 MPH Time (seconds)']))"
   ]
  },
  {
   "cell_type": "code",
   "execution_count": 40,
   "id": "3beefab7",
   "metadata": {},
   "outputs": [
    {
     "data": {
      "text/plain": [
       "array([142699.97230064])"
      ]
     },
     "execution_count": 40,
     "metadata": {},
     "output_type": "execute_result"
    }
   ],
   "source": [
    "pipe.predict(pd.DataFrame([['Audi','R8',2022,3.2]],columns=['Car Make','Car Model','Year','0-60 MPH Time (seconds)']))"
   ]
  },
  {
   "cell_type": "code",
   "execution_count": null,
   "id": "26c8ec02",
   "metadata": {},
   "outputs": [
    {
     "name": "stdout",
     "output_type": "stream",
     "text": [
      "If want to predict press \"p\" and for quit press \"q\" \n"
     ]
    }
   ],
   "source": [
    "while True:\n",
    "    print('If want to predict press \"p\" and for quit press \"q\" ')\n",
    "    pr=input('Press:')\n",
    "    if(pr=='p'):\n",
    "        a=input('Enter Car Company:')\n",
    "        b=input('Enter Car Model:')\n",
    "        c=input('Enter Year of Car:')\n",
    "        d=input('0-60 Km/s Time:')\n",
    "        e=pipe.predict(pd.DataFrame([[a,b,c,d]],columns=['Car Make','Car Model','Year','0-60 MPH Time (seconds)']))\n",
    "#         f=np.argmax(e)\n",
    "        print('The car value is $',e[0])\n",
    "    else:\n",
    "        break;"
   ]
  },
  {
   "cell_type": "code",
   "execution_count": null,
   "id": "b937c4ec",
   "metadata": {},
   "outputs": [],
   "source": []
  },
  {
   "cell_type": "code",
   "execution_count": null,
   "id": "5db48c8f",
   "metadata": {},
   "outputs": [],
   "source": []
  }
 ],
 "metadata": {
  "kernelspec": {
   "display_name": "Python 3 (ipykernel)",
   "language": "python",
   "name": "python3"
  },
  "language_info": {
   "codemirror_mode": {
    "name": "ipython",
    "version": 3
   },
   "file_extension": ".py",
   "mimetype": "text/x-python",
   "name": "python",
   "nbconvert_exporter": "python",
   "pygments_lexer": "ipython3",
   "version": "3.9.12"
  }
 },
 "nbformat": 4,
 "nbformat_minor": 5
}
